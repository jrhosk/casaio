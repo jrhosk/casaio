{
 "cells": [
  {
   "cell_type": "code",
   "execution_count": null,
   "id": "cad058ae-50a6-499a-aeca-75e1192716f2",
   "metadata": {},
   "outputs": [],
   "source": [
    "import time\n",
    "import math\n",
    "import graphviper\n",
    "\n",
    "import numpy as np\n",
    "import casa_formats_io as cfio\n",
    "import casacore.tables as tables\n",
    "\n",
    "from casa_formats_io._casa_chunking import _combine_chunks"
   ]
  },
  {
   "cell_type": "code",
   "execution_count": null,
   "id": "236f3d52-ebcd-4fd2-b549-8de34a14d5cb",
   "metadata": {},
   "outputs": [],
   "source": [
    "def combine_chunks(array_1d, itemsize, shape, oversample):\n",
    "    if len(shape) < 4:\n",
    "        shape = tuple(shape) + (1,) * (4 - len(shape))\n",
    "        \n",
    "    if len(oversample) < 4:\n",
    "        oversample = tuple(oversample) + (1,) * (4 - len(oversample))\n",
    "\n",
    "    native_shape = [s // o for (s, o) in zip(shape, oversample)]\n",
    "    \n",
    "    return _combine_chunks(np.ascontiguousarray(array_1d), itemsize, *native_shape[::-1], *oversample[::-1])\n",
    "\n",
    "def get_array():\n",
    "\n",
    "    start = time.time()\n",
    "    array = np.fromfile(\n",
    "        \"/lustre/cv/users/jhoskins/VLASS_J1448_1620.single.ms/table.f17_TSM1\", # filename\n",
    "        dtype=np.uint8,                                                        # dtype\n",
    "        offset=0,                                                              # offset\n",
    "        count=49283072                                                         # count\n",
    "    )\n",
    "\n",
    "    result = combine_chunks(\n",
    "        array_1d=array,         # array 1d\n",
    "        itemsize=8,             # itemsize\n",
    "        shape=[24064, 64, 4],   # chunkshape\n",
    "        oversample=[47, 1, 1]   # oversample\n",
    "    ).view(\"<c8\").reshape([24064, 64, 4][::-1], order='F').T[:24000, :64, :4]\n",
    "\n",
    "    print(f\"Compute time: {time.time() - start}\")\n",
    "\n",
    "    return result"
   ]
  },
  {
   "cell_type": "code",
   "execution_count": null,
   "id": "88826474-dba4-44cc-ba87-4d93148fdc97",
   "metadata": {},
   "outputs": [],
   "source": [
    "# Verbose version of casa-formats-io code to read and get meta data information\n",
    "# that is needed to run the hacked code.\n",
    "\n",
    "start = time.time()\n",
    "\n",
    "data_graph = cfio.table_reader.read(\"/lustre/cv/users/jhoskins/VLASS_J1448_1620.single.ms\", name=\"DATA\")\n",
    "\n",
    "# Call `compute()` to get data from Dask object.\n",
    "data = data_graph[0][1].compute()\n",
    "\n",
    "print(f\"Compute time: {time.time() - start}\")"
   ]
  },
  {
   "cell_type": "code",
   "execution_count": null,
   "id": "6277ae71-6369-4b46-80f3-9e141daf70ae",
   "metadata": {},
   "outputs": [],
   "source": [
    "# Hacked part of casa-formats-io file read that directly reads binary file data using numpy+. This\n",
    "# does not contain code to get the required chunking, shape and sampling information needed to read\n",
    "# the binary data and reshape into the output array.\n",
    "\n",
    "result = get_array()"
   ]
  },
  {
   "cell_type": "code",
   "execution_count": null,
   "id": "40b36830-6f43-4494-b1de-a4929a665950",
   "metadata": {},
   "outputs": [],
   "source": [
    "# This is just the standard python-casacore table read and DATA column get commands.\n",
    "\n",
    "start = time.time()\n",
    "\n",
    "table = tables.table(\"/lustre/cv/users/jhoskins/VLASS_J1448_1620.single.ms\")\n",
    "carray = table.getcol(\"DATA\")\n",
    "\n",
    "print(f\"casacore time: {time.time() - start}\")"
   ]
  },
  {
   "cell_type": "markdown",
   "id": "9f14f0a6-ff96-4825-996a-5b581532ac09",
   "metadata": {},
   "source": [
    "## Check array shapes match"
   ]
  },
  {
   "cell_type": "code",
   "execution_count": null,
   "id": "839398f3-1826-4fd4-9f55-9075c256107f",
   "metadata": {},
   "outputs": [],
   "source": [
    "result.shape"
   ]
  },
  {
   "cell_type": "code",
   "execution_count": null,
   "id": "3e11c12a-284d-41f7-9604-0ee80bf87110",
   "metadata": {},
   "outputs": [],
   "source": [
    "data.shape"
   ]
  },
  {
   "cell_type": "code",
   "execution_count": null,
   "id": "758cd247-27c6-4cc6-816d-b01b25f48914",
   "metadata": {},
   "outputs": [],
   "source": [
    "carray.shape"
   ]
  },
  {
   "cell_type": "markdown",
   "id": "0d50c1da-e1e2-4909-abfd-71cdd88481c6",
   "metadata": {},
   "source": [
    "## Check to be sure that arrays match"
   ]
  },
  {
   "cell_type": "code",
   "execution_count": null,
   "id": "28fcc748-52f7-4b08-888e-db03393c4c10",
   "metadata": {},
   "outputs": [],
   "source": [
    "np.unique(data - result)"
   ]
  },
  {
   "cell_type": "code",
   "execution_count": null,
   "id": "2e9a6bec-7195-48c4-9aaa-3ae0670d4d4d",
   "metadata": {},
   "outputs": [],
   "source": [
    "np.unique(carray - result)"
   ]
  }
 ],
 "metadata": {
  "kernelspec": {
   "display_name": "Python 3 (ipykernel)",
   "language": "python",
   "name": "python3"
  },
  "language_info": {
   "codemirror_mode": {
    "name": "ipython",
    "version": 3
   },
   "file_extension": ".py",
   "mimetype": "text/x-python",
   "name": "python",
   "nbconvert_exporter": "python",
   "pygments_lexer": "ipython3",
   "version": "3.9.19"
  }
 },
 "nbformat": 4,
 "nbformat_minor": 5
}
