{
 "cells": [
  {
   "cell_type": "code",
   "execution_count": 1,
   "id": "946aa80f-f992-4c8f-a110-420a76cc7c66",
   "metadata": {},
   "outputs": [],
   "source": [
    "import time\n",
    "import graphviper\n",
    "\n",
    "import numpy as np\n",
    "\n",
    "import casa_formats_io as cfio\n",
    "from casacore.tables import table\n",
    "from astropy.table import Table"
   ]
  },
  {
   "cell_type": "code",
   "execution_count": 3,
   "id": "aa1b0518-d089-40c6-8eb2-b995bf87684b",
   "metadata": {},
   "outputs": [
    {
     "name": "stdout",
     "output_type": "stream",
     "text": [
      "[\u001b[38;2;128;05;128m2024-08-07 08:44:58,300\u001b[0m] \u001b[38;2;255;160;0m WARNING\u001b[0m\u001b[38;2;112;128;144m  graphviper: \u001b[0m File exists: \u001b[38;2;50;50;205m/home/mystletainn/miniconda3/envs/casaio/lib/python3.9/site-packages/graphviper/utils/data/.dropbox\u001b[0m \n",
      "[\u001b[38;2;128;05;128m2024-08-07 08:44:58,302\u001b[0m] \u001b[38;2;50;50;205m    INFO\u001b[0m\u001b[38;2;112;128;144m  graphviper: \u001b[0m Updating file metadata information ...  \n",
      " [\u001b[38;2;128;05;128m2024-08-07 08:44:59,311\u001b[0m] \u001b[38;2;50;50;205m    INFO\u001b[0m\u001b[38;2;112;128;144m  graphviper: \u001b[0m Creating path:\u001b[38;2;50;50;205m/home/mystletainn/Development/casaio/data/data\u001b[0m \n"
     ]
    },
    {
     "data": {
      "text/html": [
       "<pre style=\"white-space:pre;overflow-x:auto;line-height:normal;font-family:Menlo,'DejaVu Sans Mono',consolas,'Courier New',monospace\">                              \n",
       " <span style=\"font-weight: bold\"> Download List              </span> \n",
       " ──────────────────────────── \n",
       "  <span style=\"color: #800080; text-decoration-color: #800080\">Antennae_North.cal.lsrk.ms</span>  \n",
       "                              \n",
       "</pre>\n"
      ],
      "text/plain": [
       "                              \n",
       " \u001b[1m \u001b[0m\u001b[1mDownload List             \u001b[0m\u001b[1m \u001b[0m \n",
       " ──────────────────────────── \n",
       "  \u001b[35mAntennae_North.cal.lsrk.ms\u001b[0m  \n",
       "                              \n"
      ]
     },
     "metadata": {},
     "output_type": "display_data"
    },
    {
     "name": "stdout",
     "output_type": "stream",
     "text": [
      " "
     ]
    },
    {
     "data": {
      "application/vnd.jupyter.widget-view+json": {
       "model_id": "94715fb2207247dfa339774056ca0d2f",
       "version_major": 2,
       "version_minor": 0
      },
      "text/plain": [
       "data/Antennae_North.cal.lsrk.ms.zip:   0%|          | 0.00/181M [00:00<?, ?iB/s]"
      ]
     },
     "metadata": {},
     "output_type": "display_data"
    }
   ],
   "source": [
    "graphviper.utils.data.download(file=\"Antennae_North.cal.lsrk.ms\", folder=\"data\")"
   ]
  },
  {
   "cell_type": "code",
   "execution_count": 5,
   "id": "45700e9c-bc72-4b3a-847c-1c5721603257",
   "metadata": {},
   "outputs": [
    {
     "name": "stdout",
     "output_type": "stream",
     "text": [
      "Time to read table info: 0.03396105766296387\n",
      "Time to produce data table: 0.05613517761230469\n"
     ]
    }
   ],
   "source": [
    "cf_table = cfio.table_reader.read_casa_table(filename=\"data/Antennae_North.cal.lsrk.ms\", data_desc_id=None)"
   ]
  },
  {
   "cell_type": "code",
   "execution_count": 8,
   "id": "7f7f9f2a-2692-40e1-b489-140385c94db7",
   "metadata": {},
   "outputs": [
    {
     "name": "stdout",
     "output_type": "stream",
     "text": [
      "Successful readonly open of default-locked table data/Antennae_North.cal.lsrk.ms: 22 columns, 75895 rows\n",
      "Time to load full table: 0.0012233257293701172\n"
     ]
    }
   ],
   "source": [
    "start = time.time()\n",
    "\n",
    "t = table(\"data/Antennae_North.cal.lsrk.ms\")\n",
    "t.col(\"DATA\")\n",
    "print(f\"Time to load full table: {time.time() - start}\")"
   ]
  }
 ],
 "metadata": {
  "kernelspec": {
   "display_name": "Python 3 (ipykernel)",
   "language": "python",
   "name": "python3"
  },
  "language_info": {
   "codemirror_mode": {
    "name": "ipython",
    "version": 3
   },
   "file_extension": ".py",
   "mimetype": "text/x-python",
   "name": "python",
   "nbconvert_exporter": "python",
   "pygments_lexer": "ipython3",
   "version": "3.9.19"
  }
 },
 "nbformat": 4,
 "nbformat_minor": 5
}
